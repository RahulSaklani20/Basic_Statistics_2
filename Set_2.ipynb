{
 "cells": [
  {
   "cell_type": "code",
   "execution_count": 1,
   "id": "51f8b63d",
   "metadata": {},
   "outputs": [],
   "source": [
    "import pandas as pd\n",
    "import numpy as np\n",
    "from scipy import stats\n"
   ]
  },
  {
   "cell_type": "markdown",
   "id": "578fd664",
   "metadata": {},
   "source": [
    "### Q1. The time required for servicing transmissions is normally distributed with  = 45 minutes and  = 8 minutes. The service manager plans to have work begin on the transmission of a customer’s car 10 minutes after the car is dropped off and the customer is told that the car will be ready within 1 hour from drop-off. What is the probability that the service manager cannot meet his commitment? \n",
    "\n",
    "A.\t0.3875   \n",
    "B.\t0.2676   \n",
    "C.\t0.5   \n",
    "D.\t0.6987 \n"
   ]
  },
  {
   "cell_type": "markdown",
   "id": "81144457",
   "metadata": {},
   "source": [
    "Ans. Given mean = 45 min , standard deviation = 8 min"
   ]
  },
  {
   "cell_type": "code",
   "execution_count": 2,
   "id": "4519ca16",
   "metadata": {},
   "outputs": [
    {
     "data": {
      "text/plain": [
       "0.26598552904870054"
      ]
     },
     "execution_count": 2,
     "metadata": {},
     "output_type": "execute_result"
    }
   ],
   "source": [
    "#for P(x>50)\n",
    "1-stats.norm.cdf(50,45,8)"
   ]
  },
  {
   "cell_type": "markdown",
   "id": "6729ab1d",
   "metadata": {},
   "source": [
    "Hence Option B is correct"
   ]
  },
  {
   "cell_type": "markdown",
   "id": "2b234675",
   "metadata": {},
   "source": [
    "### Q2. The current age (in years) of 400 clerical employees at an insurance claims processing center is normally distributed with mean  = 38 and Standard deviation  =6. For each statement below, please specify True/False. If false, briefly explain why.\n",
    "A.\tMore employees at the processing center are older than 44 than between 38 and 44.\n",
    "B.\tA training program for employees under the age of 30 at the center would be expected to attract about 36 employees.\n"
   ]
  },
  {
   "cell_type": "markdown",
   "id": "cbb69921",
   "metadata": {},
   "source": [
    "Ans. Given Mean = 38 , Standard Deviation = 6"
   ]
  },
  {
   "cell_type": "code",
   "execution_count": 3,
   "id": "3a00432e",
   "metadata": {},
   "outputs": [
    {
     "data": {
      "text/plain": [
       "0.8413447460685429"
      ]
     },
     "execution_count": 3,
     "metadata": {},
     "output_type": "execute_result"
    }
   ],
   "source": [
    "# A) For P(x>44) = 1 - P(x<=44)\n",
    "stats.norm.cdf(44,38,6)"
   ]
  },
  {
   "cell_type": "code",
   "execution_count": 4,
   "id": "c841368c",
   "metadata": {},
   "outputs": [
    {
     "data": {
      "text/plain": [
       "0.15865525393145707"
      ]
     },
     "execution_count": 4,
     "metadata": {},
     "output_type": "execute_result"
    }
   ],
   "source": [
    "1 - stats.norm.cdf(44,38,6)"
   ]
  },
  {
   "cell_type": "code",
   "execution_count": 5,
   "id": "1c1a0881",
   "metadata": {},
   "outputs": [
    {
     "data": {
      "text/plain": [
       "0.3413447460685429"
      ]
     },
     "execution_count": 5,
     "metadata": {},
     "output_type": "execute_result"
    }
   ],
   "source": [
    "#probability of no. of employees b/w 38 and 44 = P(x<=44) - 0.5\n",
    "stats.norm.cdf(44,38,6) - 0.5"
   ]
  },
  {
   "cell_type": "markdown",
   "id": "59264a47",
   "metadata": {},
   "source": [
    "Therefore Statement A is True"
   ]
  },
  {
   "cell_type": "code",
   "execution_count": 6,
   "id": "770c1d63",
   "metadata": {},
   "outputs": [
    {
     "data": {
      "text/plain": [
       "36.484487890347154"
      ]
     },
     "execution_count": 6,
     "metadata": {},
     "output_type": "execute_result"
    }
   ],
   "source": [
    "# B) for P(x<30)\n",
    "stats.norm.cdf(30,38,6)*400"
   ]
  },
  {
   "cell_type": "markdown",
   "id": "edafc201",
   "metadata": {},
   "source": [
    "Therefore Statement B is correct"
   ]
  },
  {
   "cell_type": "markdown",
   "id": "fa273342",
   "metadata": {},
   "source": [
    "### Q5. Consider a company that has two different divisions. The annual profits from the two divisions are independent and have distributions Profit1 ~ N(5, 3^2) and Profit2 ~ N(7, 4^2) respectively. Both the profits are in  Million. Answer the following questions about the total profit of the company in Rupees. Assume that 1$ = Rs. 45\n",
    "A.\tSpecify a Rupee range (centered on the mean) such that it contains 95% probability for the annual profit of the company.\n",
    "B.\tSpecify the 5th percentile of profit (in Rupees) for the company\n",
    "C.\tWhich of the two divisions has a larger probability of making a loss in a given year?\n"
   ]
  },
  {
   "cell_type": "code",
   "execution_count": 7,
   "id": "c733ee12",
   "metadata": {},
   "outputs": [
    {
     "name": "stdout",
     "output_type": "stream",
     "text": [
      "Mean Profit is 540 Million rupees\n"
     ]
    }
   ],
   "source": [
    "Mean = 5+7\n",
    "print('Mean Profit is', Mean*45,'Million rupees')"
   ]
  },
  {
   "cell_type": "code",
   "execution_count": 8,
   "id": "fdfb7a11",
   "metadata": {},
   "outputs": [
    {
     "name": "stdout",
     "output_type": "stream",
     "text": [
      "Standard Deviation is 225.0 Million rupees\n"
     ]
    }
   ],
   "source": [
    "SD = np.sqrt((9)+(16))\n",
    "print('Standard Deviation is', SD*45, 'Million rupees')"
   ]
  },
  {
   "cell_type": "code",
   "execution_count": 15,
   "id": "088d4afa",
   "metadata": {},
   "outputs": [
    {
     "data": {
      "text/plain": [
       "(99.00810347848784, 980.9918965215122)"
      ]
     },
     "execution_count": 15,
     "metadata": {},
     "output_type": "execute_result"
    }
   ],
   "source": [
    "# A) Specify a Rupee range (centered on the mean) such that it contains 95% probability for the annual profit of the company.\n",
    "a= stats.norm.interval(0.95,540,225)\n",
    "a"
   ]
  },
  {
   "cell_type": "code",
   "execution_count": 10,
   "id": "d3c1e8f6",
   "metadata": {},
   "outputs": [
    {
     "name": "stdout",
     "output_type": "stream",
     "text": [
      "Range is b/w (99.00810347848784, 980.9918965215122) million rupees\n"
     ]
    }
   ],
   "source": [
    "print('Range is b/w',a,'million rupees')"
   ]
  },
  {
   "cell_type": "code",
   "execution_count": 11,
   "id": "e22dd3ba",
   "metadata": {},
   "outputs": [
    {
     "name": "stdout",
     "output_type": "stream",
     "text": [
      "the 5th percentile of profit (in Rupees) for the company 169.875\n"
     ]
    }
   ],
   "source": [
    "# B) Specify the 5th percentile of profit (in Rupees) for the company\n",
    "x = 540+(-1.645)*225\n",
    "print('the 5th percentile of profit (in Rupees) for the company',x)"
   ]
  },
  {
   "cell_type": "code",
   "execution_count": 12,
   "id": "ef61f16c",
   "metadata": {},
   "outputs": [
    {
     "data": {
      "text/plain": [
       "0.0477903522728147"
      ]
     },
     "execution_count": 12,
     "metadata": {},
     "output_type": "execute_result"
    }
   ],
   "source": [
    "# C)Which of the two divisions has a larger probability of making a loss in a given year?\n",
    "#For division one\n",
    "stats.norm.cdf(0,5,3)"
   ]
  },
  {
   "cell_type": "code",
   "execution_count": 13,
   "id": "0875c6d4",
   "metadata": {},
   "outputs": [
    {
     "data": {
      "text/plain": [
       "0.040059156863817086"
      ]
     },
     "execution_count": 13,
     "metadata": {},
     "output_type": "execute_result"
    }
   ],
   "source": [
    "#For Division two\n",
    "stats.norm.cdf(0,7,4)"
   ]
  },
  {
   "cell_type": "code",
   "execution_count": null,
   "id": "46379d1c",
   "metadata": {},
   "outputs": [],
   "source": []
  }
 ],
 "metadata": {
  "kernelspec": {
   "display_name": "Python 3 (ipykernel)",
   "language": "python",
   "name": "python3"
  },
  "language_info": {
   "codemirror_mode": {
    "name": "ipython",
    "version": 3
   },
   "file_extension": ".py",
   "mimetype": "text/x-python",
   "name": "python",
   "nbconvert_exporter": "python",
   "pygments_lexer": "ipython3",
   "version": "3.9.7"
  }
 },
 "nbformat": 4,
 "nbformat_minor": 5
}
